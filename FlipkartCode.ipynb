{
 "cells": [
  {
   "cell_type": "code",
   "execution_count": 10,
   "id": "3ea23f21-62a8-4242-a68f-04d587a0cb01",
   "metadata": {},
   "outputs": [],
   "source": [
    "import requests\n",
    "from bs4 import BeautifulSoup as bs\n",
    "from urllib.request import urlopen\n",
    "import logging"
   ]
  },
  {
   "cell_type": "code",
   "execution_count": 11,
   "id": "4c64409c-9f1b-42dc-9a68-8c386bce6c8c",
   "metadata": {},
   "outputs": [],
   "source": [
    "flipkart_url=\"https://www.flipkart.com/search?\"+\"q=iphone14\""
   ]
  },
  {
   "cell_type": "code",
   "execution_count": 12,
   "id": "da809334-5bd8-468c-94d7-4103deda1e7a",
   "metadata": {},
   "outputs": [],
   "source": [
    "url_client=urlopen(flipkart_url)"
   ]
  },
  {
   "cell_type": "code",
   "execution_count": 13,
   "id": "d9baab03-2704-4581-9aeb-60e27c6beb89",
   "metadata": {},
   "outputs": [],
   "source": [
    "flipkart_page=url_client.read()"
   ]
  },
  {
   "cell_type": "code",
   "execution_count": 14,
   "id": "d0d9a52c-d399-4bd3-9086-8d2bc68a604d",
   "metadata": {},
   "outputs": [],
   "source": [
    "flipkart_html=bs(flipkart_page,'html.parser')"
   ]
  },
  {
   "cell_type": "code",
   "execution_count": 15,
   "id": "85560f66-b78a-4725-8b01-31ce7fc33d20",
   "metadata": {},
   "outputs": [
    {
     "data": {
      "text/plain": [
       "'https://www.flipkart.com/apple-iphone-14-starlight-128-gb/p/itm3485a56f6e676?pid=MOBGHWFHABH3G73H&lid=LSTMOBGHWFHABH3G73HVXY5AV&marketplace=FLIPKART&q=iphone14&store=tyy%2F4io&srno=s_1_1&otracker=search&otracker1=search&fm=organic&iid=343b1cef-7202-4da3-90b4-2894d70f65cd.MOBGHWFHABH3G73H.SEARCH&ppt=hp&ppn=homepage&ssid=wog198iund366nsw1684913654987&qH=694e31eb1200eb29'"
      ]
     },
     "execution_count": 15,
     "metadata": {},
     "output_type": "execute_result"
    }
   ],
   "source": [
    "\"https://www.flipkart.com\"+\"/apple-iphone-14-starlight-128-gb/p/itm3485a56f6e676?pid=MOBGHWFHABH3G73H&lid=LSTMOBGHWFHABH3G73HVXY5AV&marketplace=FLIPKART&q=iphone14&store=tyy%2F4io&srno=s_1_1&otracker=search&otracker1=search&fm=organic&iid=343b1cef-7202-4da3-90b4-2894d70f65cd.MOBGHWFHABH3G73H.SEARCH&ppt=hp&ppn=homepage&ssid=wog198iund366nsw1684913654987&qH=694e31eb1200eb29\""
   ]
  },
  {
   "cell_type": "code",
   "execution_count": 16,
   "id": "c9a3156c-8779-490a-8a74-a83ba489e7b6",
   "metadata": {},
   "outputs": [],
   "source": [
    "div_box=flipkart_html.find_all(\"div\",{\"class\":\"_1AtVbE col-12-12\"})"
   ]
  },
  {
   "cell_type": "code",
   "execution_count": 17,
   "id": "dd9fd6c7-07db-4901-bb2c-3095693d368a",
   "metadata": {},
   "outputs": [
    {
     "data": {
      "text/plain": [
       "30"
      ]
     },
     "execution_count": 17,
     "metadata": {},
     "output_type": "execute_result"
    }
   ],
   "source": [
    "len(div_box)"
   ]
  },
  {
   "cell_type": "code",
   "execution_count": 39,
   "id": "ad97feb7-ca54-45c7-b672-90d93ea82379",
   "metadata": {},
   "outputs": [],
   "source": [
    "del div_box[0:2]"
   ]
  },
  {
   "cell_type": "code",
   "execution_count": 46,
   "id": "2c1d3c69-ed4c-427d-baa3-e1342ed4511c",
   "metadata": {},
   "outputs": [],
   "source": [
    "product_link=\"https://www.flipkart.com\"+div_box[0].div.div.div.a['href']"
   ]
  },
  {
   "cell_type": "code",
   "execution_count": 42,
   "id": "f2b5c492-3515-49a8-8421-2a3e742d45db",
   "metadata": {},
   "outputs": [
    {
     "name": "stdout",
     "output_type": "stream",
     "text": [
      "https://www.flipkart.com/apple-iphone-14-starlight-128-gb/p/itm3485a56f6e676?pid=MOBGHWFHABH3G73H&lid=LSTMOBGHWFHABH3G73HVXY5AV&marketplace=FLIPKART&q=iphone14&store=tyy%2F4io&srno=s_1_1&otracker=search&fm=organic&iid=0aa11037-8314-40dd-88d3-5cffc872aade.MOBGHWFHABH3G73H.SEARCH&ppt=None&ppn=None&ssid=121csvuyio0000001684916919429&qH=694e31eb1200eb29\n",
      "https://www.flipkart.com/apple-iphone-14-midnight-128-gb/p/itm9e6293c322a84?pid=MOBGHWFHECFVMDCX&lid=LSTMOBGHWFHECFVMDCXBOYSND&marketplace=FLIPKART&q=iphone14&store=tyy%2F4io&srno=s_1_2&otracker=search&fm=organic&iid=0aa11037-8314-40dd-88d3-5cffc872aade.MOBGHWFHECFVMDCX.SEARCH&ppt=None&ppn=None&ssid=121csvuyio0000001684916919429&qH=694e31eb1200eb29\n",
      "https://www.flipkart.com/apple-iphone-14-blue-128-gb/p/itmdb77f40da6b6d?pid=MOBGHWFHSV7GUFWA&lid=LSTMOBGHWFHSV7GUFWAIB1T9P&marketplace=FLIPKART&q=iphone14&store=tyy%2F4io&srno=s_1_3&otracker=search&fm=organic&iid=0aa11037-8314-40dd-88d3-5cffc872aade.MOBGHWFHSV7GUFWA.SEARCH&ppt=None&ppn=None&ssid=121csvuyio0000001684916919429&qH=694e31eb1200eb29\n",
      "https://www.flipkart.com/apple-iphone-14-purple-128-gb/p/itm0b581eba85e08?pid=MOBGHWFHQFSQYBFU&lid=LSTMOBGHWFHQFSQYBFU9AP8AR&marketplace=FLIPKART&q=iphone14&store=tyy%2F4io&srno=s_1_4&otracker=search&fm=organic&iid=0aa11037-8314-40dd-88d3-5cffc872aade.MOBGHWFHQFSQYBFU.SEARCH&ppt=None&ppn=None&ssid=121csvuyio0000001684916919429&qH=694e31eb1200eb29\n",
      "https://www.flipkart.com/apple-iphone-14-starlight-256-gb/p/itmaeda15697bb79?pid=MOBGHWFHBJGZYRZC&lid=LSTMOBGHWFHBJGZYRZCN4ICRV&marketplace=FLIPKART&q=iphone14&store=tyy%2F4io&spotlightTagId=FkPickId_tyy%2F4io&srno=s_1_5&otracker=search&fm=organic&iid=0aa11037-8314-40dd-88d3-5cffc872aade.MOBGHWFHBJGZYRZC.SEARCH&ppt=None&ppn=None&ssid=121csvuyio0000001684916919429&qH=694e31eb1200eb29\n",
      "https://www.flipkart.com/apple-iphone-14-yellow-256-gb/p/itm045fb5b09118e?pid=MOBGNHT7J3HGB2CZ&lid=LSTMOBGNHT7J3HGB2CZNSXRL1&marketplace=FLIPKART&q=iphone14&store=tyy%2F4io&srno=s_1_6&otracker=search&fm=organic&iid=0aa11037-8314-40dd-88d3-5cffc872aade.MOBGNHT7J3HGB2CZ.SEARCH&ppt=None&ppn=None&ssid=121csvuyio0000001684916919429&qH=694e31eb1200eb29\n",
      "https://www.flipkart.com/apple-iphone-14-yellow-128-gb/p/itmaa0785520dd68?pid=MOBGNHT7HJFDHHAC&lid=LSTMOBGNHT7HJFDHHACULC6HX&marketplace=FLIPKART&q=iphone14&store=tyy%2F4io&srno=s_1_7&otracker=search&fm=organic&iid=0aa11037-8314-40dd-88d3-5cffc872aade.MOBGNHT7HJFDHHAC.SEARCH&ppt=None&ppn=None&ssid=121csvuyio0000001684916919429&qH=694e31eb1200eb29\n",
      "https://www.flipkart.com/apple-iphone-14-midnight-256-gb/p/itmdb32e3c997112?pid=MOBGHWFH4H3MMRAA&lid=LSTMOBGHWFH4H3MMRAAYJIH95&marketplace=FLIPKART&q=iphone14&store=tyy%2F4io&srno=s_1_8&otracker=search&fm=organic&iid=0aa11037-8314-40dd-88d3-5cffc872aade.MOBGHWFH4H3MMRAA.SEARCH&ppt=None&ppn=None&ssid=121csvuyio0000001684916919429&qH=694e31eb1200eb29\n",
      "https://www.flipkart.com/apple-iphone-14-product-red-256-gb/p/itmc370e3b74a893?pid=MOBGHWFHVPXVSKNJ&lid=LSTMOBGHWFHVPXVSKNJ3BQTNP&marketplace=FLIPKART&q=iphone14&store=tyy%2F4io&srno=s_1_9&otracker=search&fm=organic&iid=0aa11037-8314-40dd-88d3-5cffc872aade.MOBGHWFHVPXVSKNJ.SEARCH&ppt=None&ppn=None&ssid=121csvuyio0000001684916919429&qH=694e31eb1200eb29\n",
      "https://www.flipkart.com/apple-iphone-14-purple-256-gb/p/itmb2bf402090fae?pid=MOBGHWFHQHE7ZPSB&lid=LSTMOBGHWFHQHE7ZPSBUUK6V6&marketplace=FLIPKART&q=iphone14&store=tyy%2F4io&srno=s_1_10&otracker=search&fm=organic&iid=0aa11037-8314-40dd-88d3-5cffc872aade.MOBGHWFHQHE7ZPSB.SEARCH&ppt=None&ppn=None&ssid=121csvuyio0000001684916919429&qH=694e31eb1200eb29\n",
      "https://www.flipkart.com/apple-iphone-14-blue-256-gb/p/itm04dba659735c7?pid=MOBGHWFHD3XPKDPN&lid=LSTMOBGHWFHD3XPKDPNUH3TWL&marketplace=FLIPKART&q=iphone14&store=tyy%2F4io&srno=s_1_11&otracker=search&fm=organic&iid=0aa11037-8314-40dd-88d3-5cffc872aade.MOBGHWFHD3XPKDPN.SEARCH&ppt=None&ppn=None&ssid=121csvuyio0000001684916919429&qH=694e31eb1200eb29\n",
      "https://www.flipkart.com/apple-iphone-14-blue-512-gb/p/itm6f59f7f999d00?pid=MOBGHWFHYRWUSHCF&lid=LSTMOBGHWFHYRWUSHCF8A0VGL&marketplace=FLIPKART&q=iphone14&store=tyy%2F4io&srno=s_1_12&otracker=search&fm=organic&iid=0aa11037-8314-40dd-88d3-5cffc872aade.MOBGHWFHYRWUSHCF.SEARCH&ppt=None&ppn=None&ssid=121csvuyio0000001684916919429&qH=694e31eb1200eb29\n",
      "https://www.flipkart.com/apple-iphone-14-yellow-512-gb/p/itm228ad5fd691bd?pid=MOBGNHT7UDGMMMBD&lid=LSTMOBGNHT7UDGMMMBDJ8FAZ9&marketplace=FLIPKART&q=iphone14&store=tyy%2F4io&srno=s_1_13&otracker=search&fm=organic&iid=0aa11037-8314-40dd-88d3-5cffc872aade.MOBGNHT7UDGMMMBD.SEARCH&ppt=None&ppn=None&ssid=121csvuyio0000001684916919429&qH=694e31eb1200eb29\n",
      "https://www.flipkart.com/apple-iphone-14-product-red-512-gb/p/itm9b970895ea4d5?pid=MOBGHWFHS87QNJ32&lid=LSTMOBGHWFHS87QNJ32W9IACJ&marketplace=FLIPKART&q=iphone14&store=tyy%2F4io&srno=s_1_14&otracker=search&fm=organic&iid=0aa11037-8314-40dd-88d3-5cffc872aade.MOBGHWFHS87QNJ32.SEARCH&ppt=None&ppn=None&ssid=121csvuyio0000001684916919429&qH=694e31eb1200eb29\n",
      "https://www.flipkart.com/apple-iphone-14-purple-512-gb/p/itm97a1b385891d0?pid=MOBGHWFHG9HQHTU7&lid=LSTMOBGHWFHG9HQHTU7OVRY05&marketplace=FLIPKART&q=iphone14&store=tyy%2F4io&srno=s_1_15&otracker=search&fm=organic&iid=0aa11037-8314-40dd-88d3-5cffc872aade.MOBGHWFHG9HQHTU7.SEARCH&ppt=None&ppn=None&ssid=121csvuyio0000001684916919429&qH=694e31eb1200eb29\n",
      "https://www.flipkart.com/apple-iphone-14-plus-blue-128-gb/p/itmac8385391b02b?pid=MOBGHWFHUYWGB5F2&lid=LSTMOBGHWFHUYWGB5F2RJNHBM&marketplace=FLIPKART&q=iphone14&store=tyy%2F4io&srno=s_1_16&otracker=search&fm=organic&iid=0aa11037-8314-40dd-88d3-5cffc872aade.MOBGHWFHUYWGB5F2.SEARCH&ppt=None&ppn=None&ssid=121csvuyio0000001684916919429&qH=694e31eb1200eb29\n",
      "https://www.flipkart.com/apple-iphone-14-plus-product-red-128-gb/p/itm185314a3fac59?pid=MOBGHWFH2KZRNRH5&lid=LSTMOBGHWFH2KZRNRH5NEHUFB&marketplace=FLIPKART&q=iphone14&store=tyy%2F4io&srno=s_1_17&otracker=search&fm=organic&iid=0aa11037-8314-40dd-88d3-5cffc872aade.MOBGHWFH2KZRNRH5.SEARCH&ppt=None&ppn=None&ssid=121csvuyio0000001684916919429&qH=694e31eb1200eb29\n",
      "https://www.flipkart.com/apple-iphone-14-plus-starlight-128-gb/p/itmc922ddc8af349?pid=MOBGHWFHVCB2YZYR&lid=LSTMOBGHWFHVCB2YZYR7XYF6W&marketplace=FLIPKART&q=iphone14&store=tyy%2F4io&srno=s_1_18&otracker=search&fm=organic&iid=0aa11037-8314-40dd-88d3-5cffc872aade.MOBGHWFHVCB2YZYR.SEARCH&ppt=None&ppn=None&ssid=121csvuyio0000001684916919429&qH=694e31eb1200eb29\n",
      "https://www.flipkart.com/apple-iphone-14-pro-max-space-black-128-gb/p/itm9aed88fe43457?pid=MOBGHWFHCNVGGMZF&lid=LSTMOBGHWFHCNVGGMZFEEIZN3&marketplace=FLIPKART&q=iphone14&store=tyy%2F4io&srno=s_1_19&otracker=search&fm=organic&iid=0aa11037-8314-40dd-88d3-5cffc872aade.MOBGHWFHCNVGGMZF.SEARCH&ppt=None&ppn=None&ssid=121csvuyio0000001684916919429&qH=694e31eb1200eb29\n",
      "https://www.flipkart.com/apple-iphone-14-plus-midnight-128-gb/p/itm4199ea6bcd38b?pid=MOBGHWFH3JX6NWWY&lid=LSTMOBGHWFH3JX6NWWYRH38NG&marketplace=FLIPKART&q=iphone14&store=tyy%2F4io&srno=s_1_20&otracker=search&fm=organic&iid=0aa11037-8314-40dd-88d3-5cffc872aade.MOBGHWFH3JX6NWWY.SEARCH&ppt=None&ppn=None&ssid=121csvuyio0000001684916919429&qH=694e31eb1200eb29\n",
      "https://www.flipkart.com/apple-iphone-14-plus-blue-256-gb/p/itm78e5012107786?pid=MOBGHWFH7QBPGBKT&lid=LSTMOBGHWFH7QBPGBKTHVMRAH&marketplace=FLIPKART&q=iphone14&store=tyy%2F4io&srno=s_1_21&otracker=search&fm=organic&iid=0aa11037-8314-40dd-88d3-5cffc872aade.MOBGHWFH7QBPGBKT.SEARCH&ppt=None&ppn=None&ssid=121csvuyio0000001684916919429&qH=694e31eb1200eb29\n",
      "https://www.flipkart.com/apple-iphone-14-pro-silver-128-gb/p/itm6933eb5fb30fb?pid=MOBGHWFHGQGUHWRK&lid=LSTMOBGHWFHGQGUHWRKGU5JN5&marketplace=FLIPKART&q=iphone14&store=tyy%2F4io&srno=s_1_22&otracker=search&fm=organic&iid=0aa11037-8314-40dd-88d3-5cffc872aade.MOBGHWFHGQGUHWRK.SEARCH&ppt=None&ppn=None&ssid=121csvuyio0000001684916919429&qH=694e31eb1200eb29\n",
      "https://www.flipkart.com/apple-iphone-14-pro-deep-purple-128-gb/p/itm75f73f63239fa?pid=MOBGHWFHYGAZRWFT&lid=LSTMOBGHWFHYGAZRWFT3ZMVDX&marketplace=FLIPKART&q=iphone14&store=tyy%2F4io&srno=s_1_23&otracker=search&fm=organic&iid=0aa11037-8314-40dd-88d3-5cffc872aade.MOBGHWFHYGAZRWFT.SEARCH&ppt=None&ppn=None&ssid=121csvuyio0000001684916919429&qH=694e31eb1200eb29\n",
      "https://www.flipkart.com/apple-iphone-14-pro-max-silver-128-gb/p/itmb520f3bdf56d5?pid=MOBGHWFHXFGNUZJA&lid=LSTMOBGHWFHXFGNUZJAMNTG4B&marketplace=FLIPKART&q=iphone14&store=tyy%2F4io&srno=s_1_24&otracker=search&fm=organic&iid=0aa11037-8314-40dd-88d3-5cffc872aade.MOBGHWFHXFGNUZJA.SEARCH&ppt=None&ppn=None&ssid=121csvuyio0000001684916919429&qH=694e31eb1200eb29\n"
     ]
    },
    {
     "ename": "AttributeError",
     "evalue": "'NoneType' object has no attribute 'a'",
     "output_type": "error",
     "traceback": [
      "\u001b[0;31m---------------------------------------------------------------------------\u001b[0m",
      "\u001b[0;31mAttributeError\u001b[0m                            Traceback (most recent call last)",
      "Cell \u001b[0;32mIn[42], line 2\u001b[0m\n\u001b[1;32m      1\u001b[0m \u001b[38;5;28;01mfor\u001b[39;00m i \u001b[38;5;129;01min\u001b[39;00m div_box:\n\u001b[0;32m----> 2\u001b[0m     \u001b[38;5;28mprint\u001b[39m(\u001b[38;5;124m\"\u001b[39m\u001b[38;5;124mhttps://www.flipkart.com\u001b[39m\u001b[38;5;124m\"\u001b[39m\u001b[38;5;241m+\u001b[39m\u001b[43mi\u001b[49m\u001b[38;5;241;43m.\u001b[39;49m\u001b[43mdiv\u001b[49m\u001b[38;5;241;43m.\u001b[39;49m\u001b[43mdiv\u001b[49m\u001b[38;5;241;43m.\u001b[39;49m\u001b[43mdiv\u001b[49m\u001b[38;5;241;43m.\u001b[39;49m\u001b[43ma\u001b[49m[\u001b[38;5;124m'\u001b[39m\u001b[38;5;124mhref\u001b[39m\u001b[38;5;124m'\u001b[39m])\n",
      "\u001b[0;31mAttributeError\u001b[0m: 'NoneType' object has no attribute 'a'"
     ]
    }
   ],
   "source": [
    "for i in div_box:\n",
    "    print(\"https://www.flipkart.com\"+i.div.div.div.a['href'])"
   ]
  },
  {
   "cell_type": "code",
   "execution_count": null,
   "id": "05afb462-247e-4fec-a03d-7ec7ea094d2f",
   "metadata": {},
   "outputs": [],
   "source": [
    "## ignore the error for now will handel it with expection handling"
   ]
  },
  {
   "cell_type": "code",
   "execution_count": 47,
   "id": "ceaf156e-4951-4d79-90fe-43633a6a8452",
   "metadata": {},
   "outputs": [],
   "source": [
    "product_req=requests.get(product_link)"
   ]
  },
  {
   "cell_type": "code",
   "execution_count": 49,
   "id": "b783e484-29db-46f8-be2c-8c2fc84b471d",
   "metadata": {},
   "outputs": [],
   "source": [
    "product_html=bs(product_req.text,'html.parser')"
   ]
  },
  {
   "cell_type": "code",
   "execution_count": 50,
   "id": "98aba255-5d40-4ac0-ba58-2caaac2dd02f",
   "metadata": {},
   "outputs": [],
   "source": [
    "comment_box=product_html.find_all(\"div\",{\"class\",\"_16PBlm\"})"
   ]
  },
  {
   "cell_type": "code",
   "execution_count": 51,
   "id": "2122ece4-b739-4050-a771-232ae90916fe",
   "metadata": {},
   "outputs": [
    {
     "data": {
      "text/plain": [
       "11"
      ]
     },
     "execution_count": 51,
     "metadata": {},
     "output_type": "execute_result"
    }
   ],
   "source": [
    "len(comment_box)"
   ]
  },
  {
   "cell_type": "code",
   "execution_count": 58,
   "id": "f2d195c5-9f8a-4d5a-aa1d-714f3de34c06",
   "metadata": {},
   "outputs": [
    {
     "data": {
      "text/plain": [
       "'Rahul Prasad '"
      ]
     },
     "execution_count": 58,
     "metadata": {},
     "output_type": "execute_result"
    }
   ],
   "source": [
    "comment_box[0].div.div.find_all(\"p\",{\"class\":\"_2sc7ZR _2V5EHH\"})[0].text"
   ]
  },
  {
   "cell_type": "code",
   "execution_count": 59,
   "id": "f0f74e2c-430b-48a9-b87d-98eb9dd88811",
   "metadata": {},
   "outputs": [
    {
     "name": "stdout",
     "output_type": "stream",
     "text": [
      "Rahul Prasad \n",
      "Flipkart Customer\n",
      "Flipkart Customer\n",
      "Feecon Behera\n",
      "Samaresh  Tikader\n",
      "Kunal Dhamija\n",
      "Manish Choudhary\n",
      "Ashutosh Kumar\n",
      "afzal khan\n",
      "Sunder Singh \n"
     ]
    },
    {
     "ename": "AttributeError",
     "evalue": "'NoneType' object has no attribute 'div'",
     "output_type": "error",
     "traceback": [
      "\u001b[0;31m---------------------------------------------------------------------------\u001b[0m",
      "\u001b[0;31mAttributeError\u001b[0m                            Traceback (most recent call last)",
      "Cell \u001b[0;32mIn[59], line 2\u001b[0m\n\u001b[1;32m      1\u001b[0m \u001b[38;5;28;01mfor\u001b[39;00m i \u001b[38;5;129;01min\u001b[39;00m comment_box:\n\u001b[0;32m----> 2\u001b[0m     \u001b[38;5;28mprint\u001b[39m(\u001b[43mi\u001b[49m\u001b[38;5;241;43m.\u001b[39;49m\u001b[43mdiv\u001b[49m\u001b[38;5;241;43m.\u001b[39;49m\u001b[43mdiv\u001b[49m\u001b[38;5;241m.\u001b[39mfind_all(\u001b[38;5;124m\"\u001b[39m\u001b[38;5;124mp\u001b[39m\u001b[38;5;124m\"\u001b[39m,{\u001b[38;5;124m\"\u001b[39m\u001b[38;5;124mclass\u001b[39m\u001b[38;5;124m\"\u001b[39m:\u001b[38;5;124m\"\u001b[39m\u001b[38;5;124m_2sc7ZR _2V5EHH\u001b[39m\u001b[38;5;124m\"\u001b[39m})[\u001b[38;5;241m0\u001b[39m]\u001b[38;5;241m.\u001b[39mtext)\n",
      "\u001b[0;31mAttributeError\u001b[0m: 'NoneType' object has no attribute 'div'"
     ]
    }
   ],
   "source": [
    "for i in comment_box:\n",
    "    print(i.div.div.find_all(\"p\",{\"class\":\"_2sc7ZR _2V5EHH\"})[0].text)\n",
    "## name of commentors"
   ]
  },
  {
   "cell_type": "code",
   "execution_count": 69,
   "id": "faaa54a9-d15e-4416-90f5-badf33661f00",
   "metadata": {},
   "outputs": [
    {
     "data": {
      "text/plain": [
       "'5'"
      ]
     },
     "execution_count": 69,
     "metadata": {},
     "output_type": "execute_result"
    }
   ],
   "source": [
    "comment_box[0].div.div.div.div.text"
   ]
  },
  {
   "cell_type": "code",
   "execution_count": 70,
   "id": "58e7da4e-8540-44eb-aebc-158f180d3a5b",
   "metadata": {},
   "outputs": [
    {
     "name": "stdout",
     "output_type": "stream",
     "text": [
      "5\n",
      "5\n",
      "5\n",
      "5\n",
      "5\n",
      "5\n",
      "5\n",
      "5\n",
      "5\n",
      "5\n"
     ]
    },
    {
     "ename": "AttributeError",
     "evalue": "'NoneType' object has no attribute 'div'",
     "output_type": "error",
     "traceback": [
      "\u001b[0;31m---------------------------------------------------------------------------\u001b[0m",
      "\u001b[0;31mAttributeError\u001b[0m                            Traceback (most recent call last)",
      "Cell \u001b[0;32mIn[70], line 2\u001b[0m\n\u001b[1;32m      1\u001b[0m \u001b[38;5;28;01mfor\u001b[39;00m i \u001b[38;5;129;01min\u001b[39;00m comment_box:\n\u001b[0;32m----> 2\u001b[0m     \u001b[38;5;28mprint\u001b[39m(\u001b[43mi\u001b[49m\u001b[38;5;241;43m.\u001b[39;49m\u001b[43mdiv\u001b[49m\u001b[38;5;241;43m.\u001b[39;49m\u001b[43mdiv\u001b[49m\u001b[38;5;241m.\u001b[39mdiv\u001b[38;5;241m.\u001b[39mdiv\u001b[38;5;241m.\u001b[39mtext)\n",
      "\u001b[0;31mAttributeError\u001b[0m: 'NoneType' object has no attribute 'div'"
     ]
    }
   ],
   "source": [
    "for i in comment_box:\n",
    "    print(i.div.div.div.div.text)\n",
    "    \n",
    "## ratings"
   ]
  },
  {
   "cell_type": "code",
   "execution_count": 78,
   "id": "a9e34fa1-1a1c-429a-a5be-887e2ad396ca",
   "metadata": {},
   "outputs": [
    {
     "data": {
      "text/plain": [
       "'Fabulous!'"
      ]
     },
     "execution_count": 78,
     "metadata": {},
     "output_type": "execute_result"
    }
   ],
   "source": [
    "comment_box[0].div.div.div.p.text"
   ]
  },
  {
   "cell_type": "code",
   "execution_count": 79,
   "id": "2a1ecd08-c6be-4b59-92d7-666ee6ae6a15",
   "metadata": {},
   "outputs": [
    {
     "name": "stdout",
     "output_type": "stream",
     "text": [
      "Fabulous!\n",
      "Great product\n",
      "Best in the market!\n",
      "Must buy!\n",
      "Fabulous!\n",
      "Classy product\n",
      "Perfect product!\n",
      "Classy product\n",
      "Fabulous!\n",
      "Highly recommended\n"
     ]
    },
    {
     "ename": "AttributeError",
     "evalue": "'NoneType' object has no attribute 'div'",
     "output_type": "error",
     "traceback": [
      "\u001b[0;31m---------------------------------------------------------------------------\u001b[0m",
      "\u001b[0;31mAttributeError\u001b[0m                            Traceback (most recent call last)",
      "Cell \u001b[0;32mIn[79], line 3\u001b[0m\n\u001b[1;32m      1\u001b[0m \u001b[38;5;66;03m## comment headers\u001b[39;00m\n\u001b[1;32m      2\u001b[0m \u001b[38;5;28;01mfor\u001b[39;00m i \u001b[38;5;129;01min\u001b[39;00m comment_box:\n\u001b[0;32m----> 3\u001b[0m     \u001b[38;5;28mprint\u001b[39m(\u001b[43mi\u001b[49m\u001b[38;5;241;43m.\u001b[39;49m\u001b[43mdiv\u001b[49m\u001b[38;5;241;43m.\u001b[39;49m\u001b[43mdiv\u001b[49m\u001b[38;5;241m.\u001b[39mdiv\u001b[38;5;241m.\u001b[39mp\u001b[38;5;241m.\u001b[39mtext)\n",
      "\u001b[0;31mAttributeError\u001b[0m: 'NoneType' object has no attribute 'div'"
     ]
    }
   ],
   "source": [
    "## comment headers\n",
    "for i in comment_box:\n",
    "    print(i.div.div.div.p.text)"
   ]
  },
  {
   "cell_type": "code",
   "execution_count": 82,
   "id": "3623e147-616c-4e5a-b642-58a2fd7a17d3",
   "metadata": {},
   "outputs": [
    {
     "data": {
      "text/plain": [
       "'Best smart phone under this price range compare to other phones in 2023 if you see overall build quality, performance and Camera with autofocus and video action mode are awesome50% extra RAM compared to iPhone 13 and other more features. Best time to upgrade to iPhone 14 . I am so happy See Low light photos are amazing..READ MORE'"
      ]
     },
     "execution_count": 82,
     "metadata": {},
     "output_type": "execute_result"
    }
   ],
   "source": [
    "## comments\n",
    "comment_box[0].div.div.find_all(\"div\",{\"class\":\"\"})[0].text"
   ]
  },
  {
   "cell_type": "code",
   "execution_count": 84,
   "id": "734a76c3-4c25-418a-a041-d0588f96781e",
   "metadata": {},
   "outputs": [
    {
     "name": "stdout",
     "output_type": "stream",
     "text": [
      "Best smart phone under this price range compare to other phones in 2023 if you see overall build quality, performance and Camera with autofocus and video action mode are awesome50% extra RAM compared to iPhone 13 and other more features. Best time to upgrade to iPhone 14 . I am so happy See Low light photos are amazing..READ MORE\n",
      "Damn such a great phone. Camera is really good, battery lasts long enough, super smooth even though its just 60 hz XDR display. Videos with action mode on are insanely stable and crisp.The night mode can take some really good shots jn low light conditions .The whole apple environment itself is so seamless. I shifted from android to iPhone and it barely took any time since I had iPad and a mac already. With a just a few clicks the phone was ready to go.READ MORE\n",
      "Excellent smart phone, Good battery backup and performance is very good, Good camera quality.READ MORE\n",
      "Just awesome!!I switch to iPhone 14 from iPhone 12. The powerful chipset gives you smooth performance. No lags, no fancy UI, just delivers the best of it. Camera is best. Battery giving a full day. Speaker sounds wide and clear. Must buy!!READ MORE\n",
      "Happy to have iPhone 14. Wonderful phone specially because of Powerful camera😍, perfect screen size and potentially battery life make it worthy.READ MORE\n",
      "Totally in love with my new iphone 14. Battery backup is amazing which I never expected from Apple to be very honest.Built quality is excellent and it looks premium. Camera quality is excellent as well. True to life color reproduction, Indoor conditions amazing, night photos are good, facial tones are very good, day clicks are amazing. In short it's an amazing exp. Selfie cam also produces very good quality images.READ MORE\n",
      "Amazing deviceI switch to iPhone 14 from iPhone 8. Great camera and power management full day battery backup. Sound quality and display also awesome. Just go for it if you have enough moneyREAD MORE\n",
      "Great phone with great capabilities 🔥Excellent camera 📸Processor same as my 13pro New blue colour is awesome ❤️I have :- 14pro . 13pro . 12. 12mini . Also new this one iphone 14 . One thing is common in all have , there is no lag till the date. The one thing I always said it is what it is🔥🔥READ MORE\n",
      "Best one. Have not used a better mobile than this yet. currently one of the best phone in the market.READ MORE\n",
      "I am so happy to have first time i phone 14. My experience is outstanding to have this phone.But i wanted to have i phone 18 fortunately i have this now.READ MORE\n"
     ]
    },
    {
     "ename": "AttributeError",
     "evalue": "'NoneType' object has no attribute 'div'",
     "output_type": "error",
     "traceback": [
      "\u001b[0;31m---------------------------------------------------------------------------\u001b[0m",
      "\u001b[0;31mAttributeError\u001b[0m                            Traceback (most recent call last)",
      "Cell \u001b[0;32mIn[84], line 2\u001b[0m\n\u001b[1;32m      1\u001b[0m \u001b[38;5;28;01mfor\u001b[39;00m i \u001b[38;5;129;01min\u001b[39;00m comment_box:\n\u001b[0;32m----> 2\u001b[0m     \u001b[38;5;28mprint\u001b[39m(\u001b[43mi\u001b[49m\u001b[38;5;241;43m.\u001b[39;49m\u001b[43mdiv\u001b[49m\u001b[38;5;241;43m.\u001b[39;49m\u001b[43mdiv\u001b[49m\u001b[38;5;241m.\u001b[39mfind_all(\u001b[38;5;124m\"\u001b[39m\u001b[38;5;124mdiv\u001b[39m\u001b[38;5;124m\"\u001b[39m,{\u001b[38;5;124m\"\u001b[39m\u001b[38;5;124mclass\u001b[39m\u001b[38;5;124m\"\u001b[39m:\u001b[38;5;124m\"\u001b[39m\u001b[38;5;124m\"\u001b[39m})[\u001b[38;5;241m0\u001b[39m]\u001b[38;5;241m.\u001b[39mtext)\n",
      "\u001b[0;31mAttributeError\u001b[0m: 'NoneType' object has no attribute 'div'"
     ]
    }
   ],
   "source": [
    "for i in comment_box:\n",
    "    print(i.div.div.find_all(\"div\",{\"class\":\"\"})[0].text)"
   ]
  },
  {
   "cell_type": "code",
   "execution_count": null,
   "id": "3e406493-743f-45d3-961d-c7fc5fce06d5",
   "metadata": {},
   "outputs": [],
   "source": []
  }
 ],
 "metadata": {
  "kernelspec": {
   "display_name": "Python 3 (ipykernel)",
   "language": "python",
   "name": "python3"
  },
  "language_info": {
   "codemirror_mode": {
    "name": "ipython",
    "version": 3
   },
   "file_extension": ".py",
   "mimetype": "text/x-python",
   "name": "python",
   "nbconvert_exporter": "python",
   "pygments_lexer": "ipython3",
   "version": "3.10.8"
  }
 },
 "nbformat": 4,
 "nbformat_minor": 5
}
